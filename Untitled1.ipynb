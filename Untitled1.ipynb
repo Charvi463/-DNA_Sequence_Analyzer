{
  "nbformat": 4,
  "nbformat_minor": 0,
  "metadata": {
    "colab": {
      "provenance": []
    },
    "kernelspec": {
      "name": "python3",
      "display_name": "Python 3"
    },
    "language_info": {
      "name": "python"
    }
  },
  "cells": [
    {
      "cell_type": "code",
      "execution_count": 3,
      "metadata": {
        "colab": {
          "base_uri": "https://localhost:8080/"
        },
        "id": "LM4A2lLkNaOZ",
        "outputId": "dfd4558d-fe44-4cfa-8891-f10754940fe0"
      },
      "outputs": [
        {
          "output_type": "stream",
          "name": "stdout",
          "text": [
            "Requirement already satisfied: biopython in /usr/local/lib/python3.11/dist-packages (1.85)\n",
            "Requirement already satisfied: numpy in /usr/local/lib/python3.11/dist-packages (from biopython) (1.26.4)\n",
            "Biopython is installed successfully! 🎉\n"
          ]
        }
      ],
      "source": [
        "!pip  install biopython\n",
        "import Bio\n",
        "print(\"Biopython is installed successfully! 🎉\")\n"
      ]
    },
    {
      "cell_type": "code",
      "source": [
        "from Bio.Seq import Seq\n",
        "\n",
        "# Sample DNA sequence\n",
        "dna_seq = Seq(\"ATGCGTAGCTAGGCTAGCTA\")\n",
        "\n",
        "# Basic info\n",
        "print(\"📌 DNA Sequence:\", dna_seq)\n",
        "print(\"📌 Length:\", len(dna_seq))\n",
        "print(\"📌 Nucleotide Frequency:\", {nt: dna_seq.count(nt) for nt in \"ATGC\"})\n",
        "\n",
        "\n"
      ],
      "metadata": {
        "colab": {
          "base_uri": "https://localhost:8080/"
        },
        "id": "FQQuw_BNNyE-",
        "outputId": "9dd6af0b-37aa-48ca-deea-862281ce740d"
      },
      "execution_count": 4,
      "outputs": [
        {
          "output_type": "stream",
          "name": "stdout",
          "text": [
            "📌 DNA Sequence: ATGCGTAGCTAGGCTAGCTA\n",
            "📌 Length: 20\n",
            "📌 Nucleotide Frequency: {'A': 5, 'T': 5, 'G': 6, 'C': 4}\n"
          ]
        }
      ]
    },
    {
      "cell_type": "code",
      "source": [
        "from Bio.Seq import Seq\n",
        "\n",
        "# Sample DNA sequence\n",
        "dna_seq = Seq(\"ATGCGTAGCTAGGCTAGCTATGGCCTAGATCAGTACAGTAGA\")\n",
        "\n",
        "# Basic info\n",
        "print(\"📌 DNA Sequence:\", dna_seq)\n",
        "print(\"📌 Length:\", len(dna_seq))\n",
        "print(\"📌 Nucleotide Frequency:\", {nt: dna_seq.count(nt) for nt in \"ATGC\"})\n"
      ],
      "metadata": {
        "colab": {
          "base_uri": "https://localhost:8080/"
        },
        "id": "yFgM1PxzOfKB",
        "outputId": "58d8778a-9099-483a-a289-18fe91c3129a"
      },
      "execution_count": 5,
      "outputs": [
        {
          "output_type": "stream",
          "name": "stdout",
          "text": [
            "📌 DNA Sequence: ATGCGTAGCTAGGCTAGCTATGGCCTAGATCAGTACAGTAGA\n",
            "📌 Length: 42\n",
            "📌 Nucleotide Frequency: {'A': 12, 'T': 10, 'G': 12, 'C': 8}\n"
          ]
        }
      ]
    },
    {
      "cell_type": "code",
      "source": [
        "def gc_content(sequence):\n",
        "    gc_count = sequence.count(\"G\") + sequence.count(\"C\")\n",
        "    gc_percentage = (gc_count / len(sequence)) * 100\n",
        "    return round(gc_percentage, 2)  # Rounds to 2 decimal places\n",
        "\n",
        "# Calculate GC content\n",
        "gc_percent = gc_content(dna_seq)\n",
        "print(\"📌 GC Content:\", gc_percent, \"%\")\n"
      ],
      "metadata": {
        "colab": {
          "base_uri": "https://localhost:8080/"
        },
        "id": "169TSTklO5ef",
        "outputId": "318c9821-dfcd-4eab-b2f4-8bdc157beb45"
      },
      "execution_count": 6,
      "outputs": [
        {
          "output_type": "stream",
          "name": "stdout",
          "text": [
            "📌 GC Content: 47.62 %\n"
          ]
        }
      ]
    },
    {
      "cell_type": "code",
      "source": [
        "reverse_complement = dna_seq.reverse_complement()\n",
        "print(\"📌 Reverse Complement:\", reverse_complement)\n",
        "\n"
      ],
      "metadata": {
        "colab": {
          "base_uri": "https://localhost:8080/"
        },
        "id": "d8ZDL6ABO_et",
        "outputId": "54df0dad-1bbb-4fe5-cf95-407d2d7c88cb"
      },
      "execution_count": 7,
      "outputs": [
        {
          "output_type": "stream",
          "name": "stdout",
          "text": [
            "📌 Reverse Complement: TCTACTGTACTGATCTAGGCCATAGCTAGCCTAGCTACGCAT\n"
          ]
        }
      ]
    },
    {
      "cell_type": "code",
      "source": [
        "mRNA = dna_seq.transcribe()\n",
        "print(\"📌 mRNA Sequence:\", mRNA)\n",
        "protein = dna_seq.translate()\n",
        "print(\"📌 Protein Sequence:\", protein)\n",
        "\n",
        "# Ensure sequence is a multiple of 3\n",
        "trimmed_dna = dna_seq[:len(dna_seq) - (len(dna_seq) % 3)]\n",
        "protein = trimmed_dna.translate()\n",
        "print(\"📌 Fixed Protein Sequence:\", protein)\n"
      ],
      "metadata": {
        "colab": {
          "base_uri": "https://localhost:8080/"
        },
        "id": "mH99rdbYPFVM",
        "outputId": "8f246998-3d19-46e3-a260-27623a9ae08e"
      },
      "execution_count": 11,
      "outputs": [
        {
          "output_type": "stream",
          "name": "stdout",
          "text": [
            "📌 mRNA Sequence: AUGCGUAGCUAGGCUAGCUAUGGCCUAGAUCAGUACAGUAGA\n",
            "📌 Protein Sequence: MRS*ASYGLDQYSR\n",
            "📌 Fixed Protein Sequence: MRS*ASYGLDQYSR\n"
          ]
        }
      ]
    },
    {
      "cell_type": "code",
      "source": [
        "protein = dna_seq.translate()\n",
        "print(\"📌 Protein Sequence:\", protein)\n"
      ],
      "metadata": {
        "colab": {
          "base_uri": "https://localhost:8080/"
        },
        "id": "azQprgaMPRMj",
        "outputId": "29015e16-a5f9-423b-8afb-9cbb7c2e180f"
      },
      "execution_count": 9,
      "outputs": [
        {
          "output_type": "stream",
          "name": "stdout",
          "text": [
            "📌 Protein Sequence: MRS*ASYGLDQYSR\n"
          ]
        }
      ]
    },
    {
      "cell_type": "code",
      "source": [
        "from Bio.Seq import Seq\n",
        "\n",
        "# User input\n",
        "user_sequence = input(\"Enter a DNA sequence (A, T, G, C only): \").upper()\n",
        "\n",
        "# Validate input\n",
        "if all(nt in \"ATGC\" for nt in user_sequence):\n",
        "    dna_seq = Seq(user_sequence)\n",
        "\n",
        "    # Perform all analyses\n",
        "    print(\"\\n📌 DNA Sequence:\", dna_seq)\n",
        "    print(\"📌 Length:\", len(dna_seq))\n",
        "    print(\"📌 Nucleotide Frequency:\", {nt: dna_seq.count(nt) for nt in \"ATGC\"})\n",
        "    print(\"📌 GC Content:\", gc_content(dna_seq), \"%\")\n",
        "    print(\"📌 Reverse Complement:\", dna_seq.reverse_complement())\n",
        "    print(\"📌 mRNA Sequence:\", dna_seq.transcribe())\n",
        "    print(\"📌 Protein Sequence:\", dna_seq.translate())\n",
        "else:\n",
        "    print(\"⚠️ Invalid sequence! Please enter only A, T, G, and C.\")\n"
      ],
      "metadata": {
        "colab": {
          "base_uri": "https://localhost:8080/"
        },
        "id": "edfYbtpDPz-g",
        "outputId": "a43d7468-73e4-4fef-8092-d7931330805b"
      },
      "execution_count": 13,
      "outputs": [
        {
          "output_type": "stream",
          "name": "stdout",
          "text": [
            "Enter a DNA sequence (A, T, G, C only): ATCGATGCAGTCAGTGACGTAGCA\n",
            "\n",
            "📌 DNA Sequence: ATCGATGCAGTCAGTGACGTAGCA\n",
            "📌 Length: 24\n",
            "📌 Nucleotide Frequency: {'A': 7, 'T': 5, 'G': 7, 'C': 5}\n",
            "📌 GC Content: 50.0 %\n",
            "📌 Reverse Complement: TGCTACGTCACTGACTGCATCGAT\n",
            "📌 mRNA Sequence: AUCGAUGCAGUCAGUGACGUAGCA\n",
            "📌 Protein Sequence: IDAVSDVA\n"
          ]
        }
      ]
    },
    {
      "cell_type": "code",
      "source": [
        "# Save results to a file\n",
        "with open(\"dna_analysis_results.txt\", \"w\") as file:\n",
        "    file.write(f\"DNA Sequence: {dna_seq}\\n\")\n",
        "    file.write(f\"Length: {len(dna_seq)}\\n\")\n",
        "    file.write(f\"Nucleotide Frequency: {str({nt: dna_seq.count(nt) for nt in 'ATGC'})}\\n\")\n",
        "    file.write(f\"GC Content: {gc_content(dna_seq)}%\\n\")\n",
        "    file.write(f\"Reverse Complement: {dna_seq.reverse_complement()}\\n\")\n",
        "    file.write(f\"mRNA Sequence: {dna_seq.transcribe()}\\n\")\n",
        "    file.write(f\"Protein Sequence: {dna_seq.translate()}\\n\")\n",
        "\n",
        "print(\"📁 Results saved to dna_analysis_results.txt!\")\n"
      ],
      "metadata": {
        "colab": {
          "base_uri": "https://localhost:8080/"
        },
        "id": "amkGVBhZQPX8",
        "outputId": "972263ae-fa49-480e-e039-7071cd455f0d"
      },
      "execution_count": 14,
      "outputs": [
        {
          "output_type": "stream",
          "name": "stdout",
          "text": [
            "📁 Results saved to dna_analysis_results.txt!\n"
          ]
        }
      ]
    }
  ]
}